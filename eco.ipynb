{
 "cells": [
  {
   "cell_type": "markdown",
   "metadata": {},
   "source": [
    "* B Bear\n",
    "    * 2 pts for each adjacent Bee or Trout\n",
    "* b Bee\n",
    "    * 3 pts for each adjacent Meadow\n",
    "* D Deer\n",
    "    * 2 pts for each Row or Column that contains a Deer\n",
    "* d Dragonfly / Insect\n",
    "    * Length of adjacent streams?\n",
    "* E Eagle\n",
    "    * 2 pts for each Rabbit or Trout within 2 squares\n",
    "* F Fox\n",
    "    * 3 pts if no adjacent Wolf or Bear\n",
    "* M Meadow\n",
    "    * 0 / 3 / 5 / 10 / 15 pts for 1 / 2 / 3/ 4/ 5 connected Meadow pieces\n",
    "* R Rabbit\n",
    "    * 1 pt\n",
    "* S Stream\n",
    "    * Pts for longest stream\n",
    "* T Trout\n",
    "    * ?\n",
    "* W Wolf\n",
    "    * 12 / 8 / 4 pts for 1st / 2nd / 3rd\n",
    "\n",
    "* Diversity\n",
    "    * 12 / 5 / 0 / -5 pts for 2+ / 3 / 4 / 5 / 6+ gaps\n"
   ]
  },
  {
   "cell_type": "code",
   "execution_count": null,
   "metadata": {},
   "outputs": [],
   "source": [
    "\n"
   ]
  }
 ],
 "metadata": {
  "language_info": {
   "name": "python"
  },
  "orig_nbformat": 4
 },
 "nbformat": 4,
 "nbformat_minor": 2
}
